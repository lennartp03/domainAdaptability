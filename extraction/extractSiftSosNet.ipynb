{
 "cells": [
  {
   "cell_type": "code",
   "execution_count": null,
   "metadata": {},
   "outputs": [],
   "source": [
    "# Standard libraries\n",
    "import numpy as np\n",
    "import time\n",
    "import os\n",
    "\n",
    "# Computer Vision and Image Processing libraries\n",
    "import cv2\n",
    "import torch\n",
    "import kornia as K\n",
    "\n",
    "# Specific modules for feature extraction and visualization\n",
    "import kornia.feature as KF\n",
    "from kornia_moons.feature import *\n",
    "from kornia_moons.viz import *\n",
    "\n",
    "# Utility and progress bar\n",
    "import tqdm\n",
    "\n",
    "# Visualization libraries\n",
    "import matplotlib.pyplot as plt"
   ]
  },
  {
   "cell_type": "code",
   "execution_count": null,
   "metadata": {},
   "outputs": [],
   "source": [
    "device = torch.device(\"cuda\" if torch.cuda.is_available() else \"cpu\")\n",
    "print(\"Device:\", device)"
   ]
  },
  {
   "cell_type": "code",
   "execution_count": null,
   "metadata": {},
   "outputs": [],
   "source": [
    "# Process the file\n",
    "with open(\"../image_list_hpatches_sequences.txt\", 'r') as f:\n",
    "    lines = [os.path.join(\"..\", line.strip()) for line in f.readlines()]\n",
    "    lines = sorted(lines)"
   ]
  },
  {
   "cell_type": "code",
   "execution_count": null,
   "metadata": {},
   "outputs": [],
   "source": [
    "num_features = 2048\n",
    "descriptor = KF.SOSNet(True)\n",
    "sift = OpenCVDetectorWithAffNetKornia(cv2.SIFT_create(num_features))\n",
    "siftSOS = KF.LocalFeature(sift, KF.LAFDescriptor(descriptor))\n",
    "output_extension = \".siftSOS\"\n",
    "\n",
    "durations = []\n",
    "\n",
    "for path in lines:\n",
    "\n",
    "    image = K.io.load_image(path, K.io.ImageLoadType.RGB32, device=device)[None, ...]\n",
    "    image_g = K.color.rgb_to_grayscale(image)\n",
    "\n",
    "    with torch.inference_mode():\n",
    "        starttime = time.time()\n",
    "        keypoints, _, descriptors = siftSOS.forward(image_g)\n",
    "        total = round((time.time() - starttime), 2)\n",
    "\n",
    "    durations.append(total)\n",
    "\n",
    "\n",
    "    with open(path + output_extension, 'wb') as output_file:\n",
    "        np.savez(\n",
    "            output_file,\n",
    "            keypoints=keypoints[0, :, :, 2].cpu().numpy(),\n",
    "            descriptors=descriptors[0].cpu().numpy()\n",
    "            )\n",
    "        \n",
    "    print(f\"Processed {path} in {total} seconds\")\n"
   ]
  }
 ],
 "metadata": {
  "kernelspec": {
   "display_name": ".env",
   "language": "python",
   "name": "python3"
  },
  "language_info": {
   "codemirror_mode": {
    "name": "ipython",
    "version": 3
   },
   "file_extension": ".py",
   "mimetype": "text/x-python",
   "name": "python",
   "nbconvert_exporter": "python",
   "pygments_lexer": "ipython3",
   "version": "3.10.9"
  },
  "orig_nbformat": 4
 },
 "nbformat": 4,
 "nbformat_minor": 2
}
